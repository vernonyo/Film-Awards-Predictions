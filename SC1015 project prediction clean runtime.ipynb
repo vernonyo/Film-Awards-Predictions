{
 "cells": [
  {
   "cell_type": "code",
   "execution_count": 53,
   "id": "e6f1b69b",
   "metadata": {},
   "outputs": [],
   "source": [
    "#Basic Libraries\n",
    "import numpy as np\n",
    "import pandas as pd\n",
    "import seaborn as sb\n",
    "import matplotlib.pyplot as plt"
   ]
  },
  {
   "cell_type": "code",
   "execution_count": 54,
   "id": "faee82bb",
   "metadata": {},
   "outputs": [
    {
     "data": {
      "text/html": [
       "<div>\n",
       "<style scoped>\n",
       "    .dataframe tbody tr th:only-of-type {\n",
       "        vertical-align: middle;\n",
       "    }\n",
       "\n",
       "    .dataframe tbody tr th {\n",
       "        vertical-align: top;\n",
       "    }\n",
       "\n",
       "    .dataframe thead th {\n",
       "        text-align: right;\n",
       "    }\n",
       "</style>\n",
       "<table border=\"1\" class=\"dataframe\">\n",
       "  <thead>\n",
       "    <tr style=\"text-align: right;\">\n",
       "      <th></th>\n",
       "      <th>Unnamed: 0</th>\n",
       "      <th>Unnamed: 0.1</th>\n",
       "      <th>Unnamed: 0.1.1</th>\n",
       "      <th>year_film</th>\n",
       "      <th>year_ceremony</th>\n",
       "      <th>ceremony</th>\n",
       "      <th>category</th>\n",
       "      <th>name</th>\n",
       "      <th>film</th>\n",
       "      <th>winner</th>\n",
       "      <th>Number of wins</th>\n",
       "      <th>runtime</th>\n",
       "    </tr>\n",
       "  </thead>\n",
       "  <tbody>\n",
       "    <tr>\n",
       "      <th>0</th>\n",
       "      <td>0</td>\n",
       "      <td>5</td>\n",
       "      <td>5</td>\n",
       "      <td>1927</td>\n",
       "      <td>1928</td>\n",
       "      <td>1</td>\n",
       "      <td>ART DIRECTION</td>\n",
       "      <td>Rochus Gliese</td>\n",
       "      <td>Sunrise</td>\n",
       "      <td>False</td>\n",
       "      <td>3</td>\n",
       "      <td>94</td>\n",
       "    </tr>\n",
       "    <tr>\n",
       "      <th>1</th>\n",
       "      <td>1</td>\n",
       "      <td>60</td>\n",
       "      <td>90</td>\n",
       "      <td>1929</td>\n",
       "      <td>1930</td>\n",
       "      <td>3</td>\n",
       "      <td>CINEMATOGRAPHY</td>\n",
       "      <td>(Arthur Edeson)</td>\n",
       "      <td>All Quiet on the Western Front</td>\n",
       "      <td>False</td>\n",
       "      <td>2</td>\n",
       "      <td>152</td>\n",
       "    </tr>\n",
       "    <tr>\n",
       "      <th>2</th>\n",
       "      <td>2</td>\n",
       "      <td>94</td>\n",
       "      <td>162</td>\n",
       "      <td>1931</td>\n",
       "      <td>1932</td>\n",
       "      <td>5</td>\n",
       "      <td>ACTRESS</td>\n",
       "      <td>Marie Dressler</td>\n",
       "      <td>Emma</td>\n",
       "      <td>False</td>\n",
       "      <td>1</td>\n",
       "      <td>120</td>\n",
       "    </tr>\n",
       "    <tr>\n",
       "      <th>3</th>\n",
       "      <td>3</td>\n",
       "      <td>128</td>\n",
       "      <td>236</td>\n",
       "      <td>1932</td>\n",
       "      <td>1933</td>\n",
       "      <td>6</td>\n",
       "      <td>DIRECTING</td>\n",
       "      <td>George Cukor</td>\n",
       "      <td>Little Women</td>\n",
       "      <td>False</td>\n",
       "      <td>3</td>\n",
       "      <td>115</td>\n",
       "    </tr>\n",
       "    <tr>\n",
       "      <th>4</th>\n",
       "      <td>4</td>\n",
       "      <td>146</td>\n",
       "      <td>266</td>\n",
       "      <td>1934</td>\n",
       "      <td>1935</td>\n",
       "      <td>7</td>\n",
       "      <td>ACTOR</td>\n",
       "      <td>Clark Gable</td>\n",
       "      <td>It Happened One Night</td>\n",
       "      <td>True</td>\n",
       "      <td>5</td>\n",
       "      <td>105</td>\n",
       "    </tr>\n",
       "  </tbody>\n",
       "</table>\n",
       "</div>"
      ],
      "text/plain": [
       "   Unnamed: 0  Unnamed: 0.1  Unnamed: 0.1.1  year_film  year_ceremony  \\\n",
       "0           0             5               5       1927           1928   \n",
       "1           1            60              90       1929           1930   \n",
       "2           2            94             162       1931           1932   \n",
       "3           3           128             236       1932           1933   \n",
       "4           4           146             266       1934           1935   \n",
       "\n",
       "   ceremony        category             name                            film  \\\n",
       "0         1   ART DIRECTION    Rochus Gliese                         Sunrise   \n",
       "1         3  CINEMATOGRAPHY  (Arthur Edeson)  All Quiet on the Western Front   \n",
       "2         5         ACTRESS   Marie Dressler                            Emma   \n",
       "3         6       DIRECTING     George Cukor                    Little Women   \n",
       "4         7           ACTOR      Clark Gable           It Happened One Night   \n",
       "\n",
       "   winner  Number of wins  runtime  \n",
       "0   False               3       94  \n",
       "1   False               2      152  \n",
       "2   False               1      120  \n",
       "3   False               3      115  \n",
       "4    True               5      105  "
      ]
     },
     "execution_count": 54,
     "metadata": {},
     "output_type": "execute_result"
    }
   ],
   "source": [
    "oscar = pd.read_csv('oscar.csv')\n",
    "oscar.head()"
   ]
  },
  {
   "cell_type": "code",
   "execution_count": 55,
   "id": "46d7b54b",
   "metadata": {},
   "outputs": [
    {
     "name": "stdout",
     "output_type": "stream",
     "text": [
      "<class 'pandas.core.frame.DataFrame'>\n",
      "RangeIndex: 434 entries, 0 to 433\n",
      "Data columns (total 12 columns):\n",
      " #   Column          Non-Null Count  Dtype \n",
      "---  ------          --------------  ----- \n",
      " 0   Unnamed: 0      434 non-null    int64 \n",
      " 1   Unnamed: 0.1    434 non-null    int64 \n",
      " 2   Unnamed: 0.1.1  434 non-null    int64 \n",
      " 3   year_film       434 non-null    int64 \n",
      " 4   year_ceremony   434 non-null    int64 \n",
      " 5   ceremony        434 non-null    int64 \n",
      " 6   category        434 non-null    object\n",
      " 7   name            434 non-null    object\n",
      " 8   film            434 non-null    object\n",
      " 9   winner          434 non-null    bool  \n",
      " 10  Number of wins  434 non-null    int64 \n",
      " 11  runtime         434 non-null    int64 \n",
      "dtypes: bool(1), int64(8), object(3)\n",
      "memory usage: 37.8+ KB\n"
     ]
    }
   ],
   "source": [
    "oscar.info()"
   ]
  },
  {
   "cell_type": "code",
   "execution_count": 56,
   "id": "0ad3404e",
   "metadata": {},
   "outputs": [
    {
     "data": {
      "text/plain": [
       "count    434.000000\n",
       "mean     126.394009\n",
       "std       28.215176\n",
       "min       24.000000\n",
       "25%      108.000000\n",
       "50%      123.000000\n",
       "75%      138.000000\n",
       "max      242.000000\n",
       "Name: runtime, dtype: float64"
      ]
     },
     "execution_count": 56,
     "metadata": {},
     "output_type": "execute_result"
    }
   ],
   "source": [
    "# Numeric Predictors\n",
    "oscar['runtime'].describe()"
   ]
  },
  {
   "cell_type": "code",
   "execution_count": 57,
   "id": "71f222b9",
   "metadata": {},
   "outputs": [
    {
     "name": "stdout",
     "output_type": "stream",
     "text": [
      "Winners : 2\n",
      "False    312\n",
      "True     122\n",
      "Name: winner, dtype: int64\n"
     ]
    },
    {
     "data": {
      "text/plain": [
       "<seaborn.axisgrid.FacetGrid at 0x247beafe250>"
      ]
     },
     "execution_count": 57,
     "metadata": {},
     "output_type": "execute_result"
    },
    {
     "data": {
      "image/png": "[encoded data removed]",
      "text/plain": [
       "<Figure size 360x360 with 1 Axes>"
      ]
     },
     "metadata": {
      "needs_background": "light"
     },
     "output_type": "display_data"
    }
   ],
   "source": [
    "# Generations in the Dataset\n",
    "print(\"Winners :\", len(oscar[\"winner\"].unique()))\n",
    "\n",
    "# Pokemons in each Generation\n",
    "print(oscar[\"winner\"].value_counts())\n",
    "sb.catplot(y = \"winner\", data = oscar, kind = \"count\")"
   ]
  },
  {
   "cell_type": "code",
   "execution_count": 58,
   "id": "66092f68",
   "metadata": {},
   "outputs": [],
   "source": [
    "run = pd.DataFrame(oscar[[\"runtime\"]])  # Response\n",
    "win = pd.DataFrame(oscar[\"winner\"])      # Predictor"
   ]
  },
  {
   "cell_type": "code",
   "execution_count": 59,
   "id": "09bf6738",
   "metadata": {},
   "outputs": [
    {
     "name": "stdout",
     "output_type": "stream",
     "text": [
      "Train Set : (434, 1) (434, 1)\n",
      "Test Set  : (200, 1) (200, 1)\n"
     ]
    }
   ],
   "source": [
    "# Train Set : 600 samples\n",
    "win_train = pd.DataFrame(win[:600])\n",
    "run_train = pd.DataFrame(run[:600])\n",
    "\n",
    "# Test Set : 200 samples\n",
    "win_test = pd.DataFrame(win[-200:])\n",
    "run_test = pd.DataFrame(run[-200:])\n",
    "\n",
    "# Check the sample sizes\n",
    "print(\"Train Set :\", run_train.shape, win_train.shape)\n",
    "print(\"Test Set  :\", run_test.shape, win_test.shape)"
   ]
  },
  {
   "cell_type": "code",
   "execution_count": 60,
   "id": "65fb6ea2",
   "metadata": {},
   "outputs": [
    {
     "data": {
      "text/plain": [
       "pandas.core.series.Series"
      ]
     },
     "execution_count": 60,
     "metadata": {},
     "output_type": "execute_result"
    }
   ],
   "source": [
    "type(run_train[\"runtime\"])"
   ]
  },
  {
   "cell_type": "code",
   "execution_count": 61,
   "id": "00adbaf5",
   "metadata": {},
   "outputs": [
    {
     "data": {
      "text/plain": [
       "130    13\n",
       "120    12\n",
       "122    11\n",
       "110    10\n",
       "112    10\n",
       "       ..\n",
       "160     1\n",
       "163     1\n",
       "164     1\n",
       "166     1\n",
       "242     1\n",
       "Name: runtime, Length: 115, dtype: int64"
      ]
     },
     "execution_count": 61,
     "metadata": {},
     "output_type": "execute_result"
    }
   ],
   "source": [
    "# Summary Statistics for Legendary Train\n",
    "run_train[\"runtime\"].value_counts()"
   ]
  },
  {
   "cell_type": "code",
   "execution_count": 62,
   "id": "49d1993d",
   "metadata": {},
   "outputs": [
    {
     "data": {
      "text/html": [
       "<div>\n",
       "<style scoped>\n",
       "    .dataframe tbody tr th:only-of-type {\n",
       "        vertical-align: middle;\n",
       "    }\n",
       "\n",
       "    .dataframe tbody tr th {\n",
       "        vertical-align: top;\n",
       "    }\n",
       "\n",
       "    .dataframe thead th {\n",
       "        text-align: right;\n",
       "    }\n",
       "</style>\n",
       "<table border=\"1\" class=\"dataframe\">\n",
       "  <thead>\n",
       "    <tr style=\"text-align: right;\">\n",
       "      <th></th>\n",
       "      <th>winner</th>\n",
       "    </tr>\n",
       "  </thead>\n",
       "  <tbody>\n",
       "    <tr>\n",
       "      <th>count</th>\n",
       "      <td>434</td>\n",
       "    </tr>\n",
       "    <tr>\n",
       "      <th>unique</th>\n",
       "      <td>2</td>\n",
       "    </tr>\n",
       "    <tr>\n",
       "      <th>top</th>\n",
       "      <td>False</td>\n",
       "    </tr>\n",
       "    <tr>\n",
       "      <th>freq</th>\n",
       "      <td>312</td>\n",
       "    </tr>\n",
       "  </tbody>\n",
       "</table>\n",
       "</div>"
      ],
      "text/plain": [
       "       winner\n",
       "count     434\n",
       "unique      2\n",
       "top     False\n",
       "freq      312"
      ]
     },
     "execution_count": 62,
     "metadata": {},
     "output_type": "execute_result"
    }
   ],
   "source": [
    "# Summary Statistics for Total Train\n",
    "win_train.describe()"
   ]
  },
  {
   "cell_type": "code",
   "execution_count": 63,
   "id": "e58f4f98",
   "metadata": {},
   "outputs": [
    {
     "data": {
      "text/plain": [
       "<AxesSubplot:xlabel='runtime', ylabel='Count'>"
      ]
     },
     "execution_count": 63,
     "metadata": {},
     "output_type": "execute_result"
    },
    {
     "data": {
      "image/png": "[encoded data removed]",
      "text/plain": [
       "<Figure size 1296x288 with 2 Axes>"
      ]
     },
     "metadata": {
      "needs_background": "light"
     },
     "output_type": "display_data"
    }
   ],
   "source": [
    "# Amount of the Credit\n",
    "f, axes = plt.subplots(1, 2, figsize=(18, 4))\n",
    "sb.boxplot(data = oscar['runtime'], orient = \"h\", ax = axes[0])\n",
    "sb.histplot(data = oscar['runtime'], ax = axes[1])"
   ]
  },
  {
   "cell_type": "code",
   "execution_count": 64,
   "id": "4bd13919",
   "metadata": {},
   "outputs": [
    {
     "data": {
      "text/plain": [
       "<AxesSubplot:xlabel='winner', ylabel='runtime'>"
      ]
     },
     "execution_count": 64,
     "metadata": {},
     "output_type": "execute_result"
    },
    {
     "data": {
      "image/png": "[encoded data removed]",
      "text/plain": [
       "<Figure size 1152x576 with 1 Axes>"
      ]
     },
     "metadata": {
      "needs_background": "light"
     },
     "output_type": "display_data"
    }
   ],
   "source": [
    "f = plt.figure(figsize=(16, 8))\n",
    "sb.stripplot(x = 'winner', y = 'runtime', data = oscar)"
   ]
  },
  {
   "cell_type": "code",
   "execution_count": 65,
   "id": "7b0eacfe",
   "metadata": {},
   "outputs": [
    {
     "name": "stderr",
     "output_type": "stream",
     "text": [
      "C:\\Users\\kyong\\anaconda3\\lib\\site-packages\\pandas\\core\\indexing.py:1637: SettingWithCopyWarning: \n",
      "A value is trying to be set on a copy of a slice from a DataFrame\n",
      "\n",
      "See the caveats in the documentation: https://pandas.pydata.org/pandas-docs/stable/user_guide/indexing.html#returning-a-view-versus-a-copy\n",
      "  self._setitem_single_block(indexer, value, name)\n"
     ]
    },
    {
     "data": {
      "text/html": [
       "<div>\n",
       "<style scoped>\n",
       "    .dataframe tbody tr th:only-of-type {\n",
       "        vertical-align: middle;\n",
       "    }\n",
       "\n",
       "    .dataframe tbody tr th {\n",
       "        vertical-align: top;\n",
       "    }\n",
       "\n",
       "    .dataframe thead th {\n",
       "        text-align: right;\n",
       "    }\n",
       "</style>\n",
       "<table border=\"1\" class=\"dataframe\">\n",
       "  <thead>\n",
       "    <tr style=\"text-align: right;\">\n",
       "      <th></th>\n",
       "      <th>Unnamed: 0</th>\n",
       "      <th>Unnamed: 0.1</th>\n",
       "      <th>Unnamed: 0.1.1</th>\n",
       "      <th>year_film</th>\n",
       "      <th>year_ceremony</th>\n",
       "      <th>ceremony</th>\n",
       "      <th>category</th>\n",
       "      <th>name</th>\n",
       "      <th>film</th>\n",
       "      <th>winner</th>\n",
       "      <th>Number of wins</th>\n",
       "      <th>runtime</th>\n",
       "    </tr>\n",
       "  </thead>\n",
       "  <tbody>\n",
       "    <tr>\n",
       "      <th>0</th>\n",
       "      <td>0</td>\n",
       "      <td>5</td>\n",
       "      <td>5</td>\n",
       "      <td>1927</td>\n",
       "      <td>1928</td>\n",
       "      <td>1</td>\n",
       "      <td>ART DIRECTION</td>\n",
       "      <td>Rochus Gliese</td>\n",
       "      <td>Sunrise</td>\n",
       "      <td>No Win</td>\n",
       "      <td>3</td>\n",
       "      <td>94</td>\n",
       "    </tr>\n",
       "    <tr>\n",
       "      <th>1</th>\n",
       "      <td>1</td>\n",
       "      <td>60</td>\n",
       "      <td>90</td>\n",
       "      <td>1929</td>\n",
       "      <td>1930</td>\n",
       "      <td>3</td>\n",
       "      <td>CINEMATOGRAPHY</td>\n",
       "      <td>(Arthur Edeson)</td>\n",
       "      <td>All Quiet on the Western Front</td>\n",
       "      <td>No Win</td>\n",
       "      <td>2</td>\n",
       "      <td>152</td>\n",
       "    </tr>\n",
       "    <tr>\n",
       "      <th>2</th>\n",
       "      <td>2</td>\n",
       "      <td>94</td>\n",
       "      <td>162</td>\n",
       "      <td>1931</td>\n",
       "      <td>1932</td>\n",
       "      <td>5</td>\n",
       "      <td>ACTRESS</td>\n",
       "      <td>Marie Dressler</td>\n",
       "      <td>Emma</td>\n",
       "      <td>No Win</td>\n",
       "      <td>1</td>\n",
       "      <td>120</td>\n",
       "    </tr>\n",
       "    <tr>\n",
       "      <th>3</th>\n",
       "      <td>3</td>\n",
       "      <td>128</td>\n",
       "      <td>236</td>\n",
       "      <td>1932</td>\n",
       "      <td>1933</td>\n",
       "      <td>6</td>\n",
       "      <td>DIRECTING</td>\n",
       "      <td>George Cukor</td>\n",
       "      <td>Little Women</td>\n",
       "      <td>No Win</td>\n",
       "      <td>3</td>\n",
       "      <td>115</td>\n",
       "    </tr>\n",
       "    <tr>\n",
       "      <th>4</th>\n",
       "      <td>4</td>\n",
       "      <td>146</td>\n",
       "      <td>266</td>\n",
       "      <td>1934</td>\n",
       "      <td>1935</td>\n",
       "      <td>7</td>\n",
       "      <td>ACTOR</td>\n",
       "      <td>Clark Gable</td>\n",
       "      <td>It Happened One Night</td>\n",
       "      <td>Win</td>\n",
       "      <td>5</td>\n",
       "      <td>105</td>\n",
       "    </tr>\n",
       "    <tr>\n",
       "      <th>...</th>\n",
       "      <td>...</td>\n",
       "      <td>...</td>\n",
       "      <td>...</td>\n",
       "      <td>...</td>\n",
       "      <td>...</td>\n",
       "      <td>...</td>\n",
       "      <td>...</td>\n",
       "      <td>...</td>\n",
       "      <td>...</td>\n",
       "      <td>...</td>\n",
       "      <td>...</td>\n",
       "      <td>...</td>\n",
       "    </tr>\n",
       "    <tr>\n",
       "      <th>429</th>\n",
       "      <td>429</td>\n",
       "      <td>4798</td>\n",
       "      <td>10289</td>\n",
       "      <td>2019</td>\n",
       "      <td>2020</td>\n",
       "      <td>92</td>\n",
       "      <td>ANIMATED FEATURE FILM</td>\n",
       "      <td>Sergio Pablos, Jinko Gotoh and Marisa Román</td>\n",
       "      <td>Klaus</td>\n",
       "      <td>No Win</td>\n",
       "      <td>0</td>\n",
       "      <td>96</td>\n",
       "    </tr>\n",
       "    <tr>\n",
       "      <th>430</th>\n",
       "      <td>430</td>\n",
       "      <td>4802</td>\n",
       "      <td>10295</td>\n",
       "      <td>2019</td>\n",
       "      <td>2020</td>\n",
       "      <td>92</td>\n",
       "      <td>CINEMATOGRAPHY</td>\n",
       "      <td>Roger Deakins</td>\n",
       "      <td>1917</td>\n",
       "      <td>Win</td>\n",
       "      <td>3</td>\n",
       "      <td>119</td>\n",
       "    </tr>\n",
       "    <tr>\n",
       "      <th>431</th>\n",
       "      <td>431</td>\n",
       "      <td>4803</td>\n",
       "      <td>10306</td>\n",
       "      <td>2019</td>\n",
       "      <td>2020</td>\n",
       "      <td>92</td>\n",
       "      <td>DIRECTING</td>\n",
       "      <td>Bong Joon Ho</td>\n",
       "      <td>Parasite</td>\n",
       "      <td>Win</td>\n",
       "      <td>4</td>\n",
       "      <td>132</td>\n",
       "    </tr>\n",
       "    <tr>\n",
       "      <th>432</th>\n",
       "      <td>432</td>\n",
       "      <td>4814</td>\n",
       "      <td>10317</td>\n",
       "      <td>2019</td>\n",
       "      <td>2020</td>\n",
       "      <td>92</td>\n",
       "      <td>FILM EDITING</td>\n",
       "      <td>Michael McCusker and Andrew Buckland</td>\n",
       "      <td>Ford v Ferrari</td>\n",
       "      <td>Win</td>\n",
       "      <td>2</td>\n",
       "      <td>152</td>\n",
       "    </tr>\n",
       "    <tr>\n",
       "      <th>433</th>\n",
       "      <td>433</td>\n",
       "      <td>4832</td>\n",
       "      <td>10376</td>\n",
       "      <td>2019</td>\n",
       "      <td>2020</td>\n",
       "      <td>92</td>\n",
       "      <td>VISUAL EFFECTS</td>\n",
       "      <td>Dan DeLeeuw, Russell Earl, Matt Aitken and Dan...</td>\n",
       "      <td>Avengers: Endgame</td>\n",
       "      <td>No Win</td>\n",
       "      <td>0</td>\n",
       "      <td>181</td>\n",
       "    </tr>\n",
       "  </tbody>\n",
       "</table>\n",
       "<p>434 rows × 12 columns</p>\n",
       "</div>"
      ],
      "text/plain": [
       "     Unnamed: 0  Unnamed: 0.1  Unnamed: 0.1.1  year_film  year_ceremony  \\\n",
       "0             0             5               5       1927           1928   \n",
       "1             1            60              90       1929           1930   \n",
       "2             2            94             162       1931           1932   \n",
       "3             3           128             236       1932           1933   \n",
       "4             4           146             266       1934           1935   \n",
       "..          ...           ...             ...        ...            ...   \n",
       "429         429          4798           10289       2019           2020   \n",
       "430         430          4802           10295       2019           2020   \n",
       "431         431          4803           10306       2019           2020   \n",
       "432         432          4814           10317       2019           2020   \n",
       "433         433          4832           10376       2019           2020   \n",
       "\n",
       "     ceremony               category  \\\n",
       "0           1          ART DIRECTION   \n",
       "1           3         CINEMATOGRAPHY   \n",
       "2           5                ACTRESS   \n",
       "3           6              DIRECTING   \n",
       "4           7                  ACTOR   \n",
       "..        ...                    ...   \n",
       "429        92  ANIMATED FEATURE FILM   \n",
       "430        92         CINEMATOGRAPHY   \n",
       "431        92              DIRECTING   \n",
       "432        92           FILM EDITING   \n",
       "433        92         VISUAL EFFECTS   \n",
       "\n",
       "                                                  name  \\\n",
       "0                                        Rochus Gliese   \n",
       "1                                      (Arthur Edeson)   \n",
       "2                                       Marie Dressler   \n",
       "3                                         George Cukor   \n",
       "4                                          Clark Gable   \n",
       "..                                                 ...   \n",
       "429        Sergio Pablos, Jinko Gotoh and Marisa Román   \n",
       "430                                      Roger Deakins   \n",
       "431                                       Bong Joon Ho   \n",
       "432               Michael McCusker and Andrew Buckland   \n",
       "433  Dan DeLeeuw, Russell Earl, Matt Aitken and Dan...   \n",
       "\n",
       "                               film  winner  Number of wins  runtime  \n",
       "0                           Sunrise  No Win               3       94  \n",
       "1    All Quiet on the Western Front  No Win               2      152  \n",
       "2                              Emma  No Win               1      120  \n",
       "3                      Little Women  No Win               3      115  \n",
       "4             It Happened One Night     Win               5      105  \n",
       "..                              ...     ...             ...      ...  \n",
       "429                           Klaus  No Win               0       96  \n",
       "430                            1917     Win               3      119  \n",
       "431                        Parasite     Win               4      132  \n",
       "432                  Ford v Ferrari     Win               2      152  \n",
       "433               Avengers: Endgame  No Win               0      181  \n",
       "\n",
       "[434 rows x 12 columns]"
      ]
     },
     "execution_count": 65,
     "metadata": {},
     "output_type": "execute_result"
    }
   ],
   "source": [
    "for d in range(0, len(oscar)):\n",
    "    if oscar['winner'].loc[d] == True:\n",
    "        oscar['winner'].loc[d] = 'Win'\n",
    "    else:\n",
    "        oscar['winner'].loc[d] = 'No Win'\n",
    "oscar"
   ]
  },
  {
   "cell_type": "code",
   "execution_count": 66,
   "id": "1d221c80",
   "metadata": {},
   "outputs": [
    {
     "data": {
      "text/plain": [
       "<seaborn.axisgrid.FacetGrid at 0x247c38448b0>"
      ]
     },
     "execution_count": 66,
     "metadata": {},
     "output_type": "execute_result"
    },
    {
     "data": {
      "image/png": "[encoded data removed]",
      "text/plain": [
       "<Figure size 1440x360 with 1 Axes>"
      ]
     },
     "metadata": {
      "needs_background": "light"
     },
     "output_type": "display_data"
    }
   ],
   "source": [
    "sb.catplot(x='runtime',y='winner',data=oscar,kind='box', orient=\"h\",aspect=4)"
   ]
  },
  {
   "cell_type": "code",
   "execution_count": null,
   "id": "37ff4536",
   "metadata": {},
   "outputs": [],
   "source": []
  },
  {
   "cell_type": "code",
   "execution_count": null,
   "id": "fb63a82f",
   "metadata": {},
   "outputs": [],
   "source": []
  }
 ],
 "metadata": {
  "kernelspec": {
   "display_name": "Python 3",
   "language": "python",
   "name": "python3"
  },
  "language_info": {
   "codemirror_mode": {
    "name": "ipython",
    "version": 3
   },
   "file_extension": ".py",
   "mimetype": "text/x-python",
   "name": "python",
   "nbconvert_exporter": "python",
   "pygments_lexer": "ipython3",
   "version": "3.8.8"
  }
 },
 "nbformat": 4,
 "nbformat_minor": 5
}
